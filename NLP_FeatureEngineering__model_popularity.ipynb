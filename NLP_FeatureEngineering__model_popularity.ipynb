{
 "cells": [
  {
   "cell_type": "markdown",
   "metadata": {},
   "source": [
    "# NLP for Data Movies"
   ]
  },
  {
   "cell_type": "markdown",
   "metadata": {},
   "source": [
    "#### The purpose of this analysis is to found a correlation between movie overviews and revenue. In order to understand a text such as \"Overview\" we need to decode it making use of NLP tecniques.\n",
    "#### Next step will be use those vectorized overviews and fit a model to make predictions.¶"
   ]
  },
  {
   "cell_type": "markdown",
   "metadata": {},
   "source": [
    "## Getting Data\n",
    "### Source: Kaggle from IMDB"
   ]
  },
  {
   "cell_type": "code",
   "execution_count": 1,
   "metadata": {},
   "outputs": [],
   "source": [
    "import matplotlib.pyplot as plt\n",
    "import pandas as pd\n",
    "import os"
   ]
  },
  {
   "cell_type": "code",
   "execution_count": 2,
   "metadata": {},
   "outputs": [],
   "source": [
    "movies = pd.read_csv(os.path.join('RawData', 'tmdb_5000_movies.csv'))"
   ]
  },
  {
   "cell_type": "code",
   "execution_count": 3,
   "metadata": {},
   "outputs": [],
   "source": [
    "df_movies = movies[['id','budget','revenue','popularity','original_title','overview']]"
   ]
  },
  {
   "cell_type": "code",
   "execution_count": 4,
   "metadata": {},
   "outputs": [
    {
     "data": {
      "text/html": [
       "<div>\n",
       "<style>\n",
       "    .dataframe thead tr:only-child th {\n",
       "        text-align: right;\n",
       "    }\n",
       "\n",
       "    .dataframe thead th {\n",
       "        text-align: left;\n",
       "    }\n",
       "\n",
       "    .dataframe tbody tr th {\n",
       "        vertical-align: top;\n",
       "    }\n",
       "</style>\n",
       "<table border=\"1\" class=\"dataframe\">\n",
       "  <thead>\n",
       "    <tr style=\"text-align: right;\">\n",
       "      <th></th>\n",
       "      <th>id</th>\n",
       "      <th>budget</th>\n",
       "      <th>revenue</th>\n",
       "      <th>popularity</th>\n",
       "      <th>original_title</th>\n",
       "      <th>overview</th>\n",
       "    </tr>\n",
       "  </thead>\n",
       "  <tbody>\n",
       "    <tr>\n",
       "      <th>0</th>\n",
       "      <td>19995</td>\n",
       "      <td>237000000</td>\n",
       "      <td>2787965087</td>\n",
       "      <td>150.437577</td>\n",
       "      <td>Avatar</td>\n",
       "      <td>In the 22nd century, a paraplegic Marine is di...</td>\n",
       "    </tr>\n",
       "    <tr>\n",
       "      <th>1</th>\n",
       "      <td>285</td>\n",
       "      <td>300000000</td>\n",
       "      <td>961000000</td>\n",
       "      <td>139.082615</td>\n",
       "      <td>Pirates of the Caribbean: At World's End</td>\n",
       "      <td>Captain Barbossa, long believed to be dead, ha...</td>\n",
       "    </tr>\n",
       "    <tr>\n",
       "      <th>2</th>\n",
       "      <td>206647</td>\n",
       "      <td>245000000</td>\n",
       "      <td>880674609</td>\n",
       "      <td>107.376788</td>\n",
       "      <td>Spectre</td>\n",
       "      <td>A cryptic message from Bond’s past sends him o...</td>\n",
       "    </tr>\n",
       "    <tr>\n",
       "      <th>3</th>\n",
       "      <td>49026</td>\n",
       "      <td>250000000</td>\n",
       "      <td>1084939099</td>\n",
       "      <td>112.312950</td>\n",
       "      <td>The Dark Knight Rises</td>\n",
       "      <td>Following the death of District Attorney Harve...</td>\n",
       "    </tr>\n",
       "    <tr>\n",
       "      <th>4</th>\n",
       "      <td>49529</td>\n",
       "      <td>260000000</td>\n",
       "      <td>284139100</td>\n",
       "      <td>43.926995</td>\n",
       "      <td>John Carter</td>\n",
       "      <td>John Carter is a war-weary, former military ca...</td>\n",
       "    </tr>\n",
       "  </tbody>\n",
       "</table>\n",
       "</div>"
      ],
      "text/plain": [
       "       id     budget     revenue  popularity  \\\n",
       "0   19995  237000000  2787965087  150.437577   \n",
       "1     285  300000000   961000000  139.082615   \n",
       "2  206647  245000000   880674609  107.376788   \n",
       "3   49026  250000000  1084939099  112.312950   \n",
       "4   49529  260000000   284139100   43.926995   \n",
       "\n",
       "                             original_title  \\\n",
       "0                                    Avatar   \n",
       "1  Pirates of the Caribbean: At World's End   \n",
       "2                                   Spectre   \n",
       "3                     The Dark Knight Rises   \n",
       "4                               John Carter   \n",
       "\n",
       "                                            overview  \n",
       "0  In the 22nd century, a paraplegic Marine is di...  \n",
       "1  Captain Barbossa, long believed to be dead, ha...  \n",
       "2  A cryptic message from Bond’s past sends him o...  \n",
       "3  Following the death of District Attorney Harve...  \n",
       "4  John Carter is a war-weary, former military ca...  "
      ]
     },
     "execution_count": 4,
     "metadata": {},
     "output_type": "execute_result"
    }
   ],
   "source": [
    "df_movies.head()"
   ]
  },
  {
   "cell_type": "code",
   "execution_count": 5,
   "metadata": {},
   "outputs": [],
   "source": [
    "df_movies.to_csv('Output/NLP_popularity/df_movies_original_dataframe.csv')"
   ]
  },
  {
   "cell_type": "markdown",
   "metadata": {},
   "source": [
    "# Cleaning Data"
   ]
  },
  {
   "cell_type": "code",
   "execution_count": 6,
   "metadata": {},
   "outputs": [],
   "source": [
    "#Cleaning rows with no popularity \n",
    "df_movies = df_movies.drop(df_movies[df_movies.popularity == 0].index)"
   ]
  },
  {
   "cell_type": "code",
   "execution_count": 7,
   "metadata": {},
   "outputs": [
    {
     "data": {
      "text/plain": [
       "id                4802\n",
       "budget            4802\n",
       "revenue           4802\n",
       "popularity        4802\n",
       "original_title    4802\n",
       "overview          4799\n",
       "dtype: int64"
      ]
     },
     "execution_count": 7,
     "metadata": {},
     "output_type": "execute_result"
    }
   ],
   "source": [
    "df_movies.count()"
   ]
  },
  {
   "cell_type": "code",
   "execution_count": 8,
   "metadata": {},
   "outputs": [
    {
     "data": {
      "text/html": [
       "<div>\n",
       "<style>\n",
       "    .dataframe thead tr:only-child th {\n",
       "        text-align: right;\n",
       "    }\n",
       "\n",
       "    .dataframe thead th {\n",
       "        text-align: left;\n",
       "    }\n",
       "\n",
       "    .dataframe tbody tr th {\n",
       "        vertical-align: top;\n",
       "    }\n",
       "</style>\n",
       "<table border=\"1\" class=\"dataframe\">\n",
       "  <thead>\n",
       "    <tr style=\"text-align: right;\">\n",
       "      <th></th>\n",
       "      <th>id</th>\n",
       "      <th>budget</th>\n",
       "      <th>revenue</th>\n",
       "      <th>popularity</th>\n",
       "      <th>original_title</th>\n",
       "      <th>overview</th>\n",
       "    </tr>\n",
       "  </thead>\n",
       "  <tbody>\n",
       "    <tr>\n",
       "      <th>2656</th>\n",
       "      <td>370980</td>\n",
       "      <td>15000000</td>\n",
       "      <td>0</td>\n",
       "      <td>0.738646</td>\n",
       "      <td>Chiamatemi Francesco - Il Papa della gente</td>\n",
       "      <td>NaN</td>\n",
       "    </tr>\n",
       "    <tr>\n",
       "      <th>4140</th>\n",
       "      <td>459488</td>\n",
       "      <td>2</td>\n",
       "      <td>0</td>\n",
       "      <td>0.050625</td>\n",
       "      <td>To Be Frank, Sinatra at 100</td>\n",
       "      <td>NaN</td>\n",
       "    </tr>\n",
       "    <tr>\n",
       "      <th>4431</th>\n",
       "      <td>292539</td>\n",
       "      <td>913000</td>\n",
       "      <td>0</td>\n",
       "      <td>0.795698</td>\n",
       "      <td>Food Chains</td>\n",
       "      <td>NaN</td>\n",
       "    </tr>\n",
       "  </tbody>\n",
       "</table>\n",
       "</div>"
      ],
      "text/plain": [
       "          id    budget  revenue  popularity  \\\n",
       "2656  370980  15000000        0    0.738646   \n",
       "4140  459488         2        0    0.050625   \n",
       "4431  292539    913000        0    0.795698   \n",
       "\n",
       "                                  original_title overview  \n",
       "2656  Chiamatemi Francesco - Il Papa della gente      NaN  \n",
       "4140                 To Be Frank, Sinatra at 100      NaN  \n",
       "4431                                 Food Chains      NaN  "
      ]
     },
     "execution_count": 8,
     "metadata": {},
     "output_type": "execute_result"
    }
   ],
   "source": [
    "#Check if there is any movie without overview\n",
    "df_movies[pd.isnull(df_movies[\"overview\"])]"
   ]
  },
  {
   "cell_type": "code",
   "execution_count": 9,
   "metadata": {},
   "outputs": [],
   "source": [
    "df_movies=df_movies[pd.notnull(df_movies[\"overview\"])]"
   ]
  },
  {
   "cell_type": "markdown",
   "metadata": {},
   "source": [
    "# Feature Engineering NLP"
   ]
  },
  {
   "cell_type": "code",
   "execution_count": 10,
   "metadata": {},
   "outputs": [],
   "source": [
    "import pandas as pd\n",
    "import numpy as np\n",
    "from sklearn.model_selection import train_test_split"
   ]
  },
  {
   "cell_type": "code",
   "execution_count": 11,
   "metadata": {},
   "outputs": [],
   "source": [
    "#Split data into train and test\n",
    "x_train,x_test, y_train,y_test = train_test_split(df_movies,df_movies[\"popularity\"], test_size=0.2)\n",
    "\n",
    "x_train_df=x_train.reset_index()\n",
    "y_train_df=y_train.reset_index()\n",
    "\n",
    "x_test_df=x_test.reset_index()\n",
    "y_test_df=y_test.reset_index()"
   ]
  },
  {
   "cell_type": "markdown",
   "metadata": {},
   "source": [
    "## Remove stop words"
   ]
  },
  {
   "cell_type": "code",
   "execution_count": 12,
   "metadata": {},
   "outputs": [
    {
     "name": "stdout",
     "output_type": "stream",
     "text": [
      "[nltk_data] Downloading package stopwords to C:\\nltk_data...\n",
      "[nltk_data]   Package stopwords is already up-to-date!\n"
     ]
    }
   ],
   "source": [
    "#Download library for stopwords\n",
    "import nltk\n",
    "nltk.download('stopwords')\n",
    "from nltk.corpus import stopwords"
   ]
  },
  {
   "cell_type": "code",
   "execution_count": 13,
   "metadata": {},
   "outputs": [],
   "source": [
    "#Cleaning stop words and some regular expresiions such as: punctuation marks, numbers.\n",
    "import re\n",
    "\n",
    "REPLACE_BY_SPACE_RE = re.compile('[/(){}\\[\\]\\|@,;]\"')\n",
    "BAD_SYMBOLS_RE = re.compile('[^0-9a-z #+_]')\n",
    "STOPWORDS = set(stopwords.words('english'))\n",
    "\n",
    "def text_prepare(text):\n",
    "    \"\"\"\n",
    "        text: a string\n",
    "        \n",
    "        return: modified initial string\n",
    "    \"\"\"\n",
    "    \n",
    "    text = text.lower()\n",
    "    text = re.sub(REPLACE_BY_SPACE_RE,\" \",text)\n",
    "    text = re.sub(BAD_SYMBOLS_RE,\"\",text)\n",
    "    text = ' '.join([word for word in text.split() if word not in STOPWORDS])\n",
    "    \n",
    "    return text"
   ]
  },
  {
   "cell_type": "code",
   "execution_count": 14,
   "metadata": {},
   "outputs": [
    {
     "data": {
      "text/plain": [
       "'captain barbossa long believed dead come back life headed edge earth turner elizabeth swann nothing quite seems'"
      ]
     },
     "execution_count": 14,
     "metadata": {},
     "output_type": "execute_result"
    }
   ],
   "source": [
    "#Testing function\n",
    "text_prepare(\"Captain Barbossa, long believed to be dead, has come back to life and is headed to the edge of the Earth with Will Turner and Elizabeth Swann. But nothing is quite as it seems\")"
   ]
  },
  {
   "cell_type": "code",
   "execution_count": 15,
   "metadata": {},
   "outputs": [],
   "source": [
    "#Applying function to all overviews in data set\n",
    "ls_train = [text_prepare(x) for x in x_train_df['overview']]\n",
    "ls_test = [text_prepare(x) for x in x_test_df['overview']]"
   ]
  },
  {
   "cell_type": "code",
   "execution_count": 16,
   "metadata": {
    "scrolled": true
   },
   "outputs": [],
   "source": [
    "#Join dataframe with a new column: Overview without stop words\n",
    "x_train_df['overview_sw']=ls_train\n",
    "x_test_df['overview_sw']=ls_test"
   ]
  },
  {
   "cell_type": "code",
   "execution_count": 17,
   "metadata": {},
   "outputs": [
    {
     "data": {
      "text/html": [
       "<div>\n",
       "<style>\n",
       "    .dataframe thead tr:only-child th {\n",
       "        text-align: right;\n",
       "    }\n",
       "\n",
       "    .dataframe thead th {\n",
       "        text-align: left;\n",
       "    }\n",
       "\n",
       "    .dataframe tbody tr th {\n",
       "        vertical-align: top;\n",
       "    }\n",
       "</style>\n",
       "<table border=\"1\" class=\"dataframe\">\n",
       "  <thead>\n",
       "    <tr style=\"text-align: right;\">\n",
       "      <th></th>\n",
       "      <th>index</th>\n",
       "      <th>id</th>\n",
       "      <th>budget</th>\n",
       "      <th>revenue</th>\n",
       "      <th>popularity</th>\n",
       "      <th>original_title</th>\n",
       "      <th>overview</th>\n",
       "      <th>overview_sw</th>\n",
       "    </tr>\n",
       "  </thead>\n",
       "  <tbody>\n",
       "    <tr>\n",
       "      <th>0</th>\n",
       "      <td>2403</td>\n",
       "      <td>679</td>\n",
       "      <td>18500000</td>\n",
       "      <td>183316455</td>\n",
       "      <td>67.660940</td>\n",
       "      <td>Aliens</td>\n",
       "      <td>When Ripley's lifepod is found by a salvage cr...</td>\n",
       "      <td>ripleys lifepod found salvage crew 50 years la...</td>\n",
       "    </tr>\n",
       "    <tr>\n",
       "      <th>1</th>\n",
       "      <td>2450</td>\n",
       "      <td>2977</td>\n",
       "      <td>16500000</td>\n",
       "      <td>37311672</td>\n",
       "      <td>18.236284</td>\n",
       "      <td>Becoming Jane</td>\n",
       "      <td>A biographical portrait of a pre-fame Jane Aus...</td>\n",
       "      <td>biographical portrait prefame jane austen roma...</td>\n",
       "    </tr>\n",
       "    <tr>\n",
       "      <th>2</th>\n",
       "      <td>4211</td>\n",
       "      <td>1651</td>\n",
       "      <td>0</td>\n",
       "      <td>0</td>\n",
       "      <td>3.654018</td>\n",
       "      <td>La sirène du Mississipi</td>\n",
       "      <td>Adapted from a story by William Irish, it's a ...</td>\n",
       "      <td>adapted story william irish noirish tale man o...</td>\n",
       "    </tr>\n",
       "    <tr>\n",
       "      <th>3</th>\n",
       "      <td>4179</td>\n",
       "      <td>260778</td>\n",
       "      <td>0</td>\n",
       "      <td>0</td>\n",
       "      <td>0.320387</td>\n",
       "      <td>வாலு</td>\n",
       "      <td>Sharp (Simbu), a happy-go-lucky guy, loves Pri...</td>\n",
       "      <td>sharp simbu happygolucky guy loves priya hansi...</td>\n",
       "    </tr>\n",
       "    <tr>\n",
       "      <th>4</th>\n",
       "      <td>4526</td>\n",
       "      <td>36825</td>\n",
       "      <td>0</td>\n",
       "      <td>0</td>\n",
       "      <td>0.082978</td>\n",
       "      <td>The R.M.</td>\n",
       "      <td>Jared Phelps (Kirby Heyborne) has completed tw...</td>\n",
       "      <td>jared phelps kirby heyborne completed two year...</td>\n",
       "    </tr>\n",
       "  </tbody>\n",
       "</table>\n",
       "</div>"
      ],
      "text/plain": [
       "   index      id    budget    revenue  popularity           original_title  \\\n",
       "0   2403     679  18500000  183316455   67.660940                   Aliens   \n",
       "1   2450    2977  16500000   37311672   18.236284            Becoming Jane   \n",
       "2   4211    1651         0          0    3.654018  La sirène du Mississipi   \n",
       "3   4179  260778         0          0    0.320387                     வாலு   \n",
       "4   4526   36825         0          0    0.082978                 The R.M.   \n",
       "\n",
       "                                            overview  \\\n",
       "0  When Ripley's lifepod is found by a salvage cr...   \n",
       "1  A biographical portrait of a pre-fame Jane Aus...   \n",
       "2  Adapted from a story by William Irish, it's a ...   \n",
       "3  Sharp (Simbu), a happy-go-lucky guy, loves Pri...   \n",
       "4  Jared Phelps (Kirby Heyborne) has completed tw...   \n",
       "\n",
       "                                         overview_sw  \n",
       "0  ripleys lifepod found salvage crew 50 years la...  \n",
       "1  biographical portrait prefame jane austen roma...  \n",
       "2  adapted story william irish noirish tale man o...  \n",
       "3  sharp simbu happygolucky guy loves priya hansi...  \n",
       "4  jared phelps kirby heyborne completed two year...  "
      ]
     },
     "execution_count": 17,
     "metadata": {},
     "output_type": "execute_result"
    }
   ],
   "source": [
    "x_train_df.head()\n",
    "x_test_df.head()"
   ]
  },
  {
   "cell_type": "markdown",
   "metadata": {},
   "source": [
    "## Tokenize, Vectorize and TF-IDF"
   ]
  },
  {
   "cell_type": "code",
   "execution_count": 18,
   "metadata": {},
   "outputs": [],
   "source": [
    "from sklearn.feature_extraction.text import TfidfVectorizer\n",
    "\n",
    "vec_train = TfidfVectorizer(max_features=5000)\n",
    "vec_train.fit(x_train_df[\"overview_sw\"])\n",
    "transformed_train = vec_train.transform(x_train_df[\"overview_sw\"])\n",
    "text_features_train = pd.DataFrame(transformed_train.todense())\n",
    "text_features_train.columns = vec_train.get_feature_names()"
   ]
  },
  {
   "cell_type": "code",
   "execution_count": 19,
   "metadata": {},
   "outputs": [],
   "source": [
    "# vec_test = TfidfVectorizer(max_features=1000)\n",
    "# vec_test.fit(x_test_df[\"overview_sw\"])\n",
    "transformed_test = vec_train.transform(x_test_df[\"overview_sw\"])\n",
    "text_features_test = pd.DataFrame(transformed_test.todense())\n",
    "text_features_test.columns = vec_train.get_feature_names()"
   ]
  },
  {
   "cell_type": "code",
   "execution_count": 20,
   "metadata": {},
   "outputs": [
    {
     "data": {
      "text/plain": [
       "(3839, 5000)"
      ]
     },
     "execution_count": 20,
     "metadata": {},
     "output_type": "execute_result"
    }
   ],
   "source": [
    "transformed_train.shape"
   ]
  },
  {
   "cell_type": "code",
   "execution_count": 21,
   "metadata": {},
   "outputs": [
    {
     "data": {
      "text/plain": [
       "(960, 5000)"
      ]
     },
     "execution_count": 21,
     "metadata": {},
     "output_type": "execute_result"
    }
   ],
   "source": [
    "transformed_test.shape"
   ]
  },
  {
   "cell_type": "code",
   "execution_count": 22,
   "metadata": {},
   "outputs": [
    {
     "data": {
      "text/html": [
       "<div>\n",
       "<style>\n",
       "    .dataframe thead tr:only-child th {\n",
       "        text-align: right;\n",
       "    }\n",
       "\n",
       "    .dataframe thead th {\n",
       "        text-align: left;\n",
       "    }\n",
       "\n",
       "    .dataframe tbody tr th {\n",
       "        vertical-align: top;\n",
       "    }\n",
       "</style>\n",
       "<table border=\"1\" class=\"dataframe\">\n",
       "  <thead>\n",
       "    <tr style=\"text-align: right;\">\n",
       "      <th></th>\n",
       "      <th>007</th>\n",
       "      <th>10</th>\n",
       "      <th>100</th>\n",
       "      <th>10th</th>\n",
       "      <th>10yearold</th>\n",
       "      <th>11</th>\n",
       "      <th>11yearold</th>\n",
       "      <th>12</th>\n",
       "      <th>12yearold</th>\n",
       "      <th>13</th>\n",
       "      <th>...</th>\n",
       "      <th>youngest</th>\n",
       "      <th>youngsters</th>\n",
       "      <th>youth</th>\n",
       "      <th>zeus</th>\n",
       "      <th>zion</th>\n",
       "      <th>zoe</th>\n",
       "      <th>zombie</th>\n",
       "      <th>zombies</th>\n",
       "      <th>zone</th>\n",
       "      <th>zoo</th>\n",
       "    </tr>\n",
       "  </thead>\n",
       "  <tbody>\n",
       "    <tr>\n",
       "      <th>0</th>\n",
       "      <td>0.0</td>\n",
       "      <td>0.0</td>\n",
       "      <td>0.0</td>\n",
       "      <td>0.0</td>\n",
       "      <td>0.0</td>\n",
       "      <td>0.0</td>\n",
       "      <td>0.0</td>\n",
       "      <td>0.0</td>\n",
       "      <td>0.0</td>\n",
       "      <td>0.0</td>\n",
       "      <td>...</td>\n",
       "      <td>0.0</td>\n",
       "      <td>0.0</td>\n",
       "      <td>0.130395</td>\n",
       "      <td>0.0</td>\n",
       "      <td>0.0</td>\n",
       "      <td>0.0</td>\n",
       "      <td>0.0</td>\n",
       "      <td>0.0</td>\n",
       "      <td>0.0</td>\n",
       "      <td>0.0</td>\n",
       "    </tr>\n",
       "    <tr>\n",
       "      <th>1</th>\n",
       "      <td>0.0</td>\n",
       "      <td>0.0</td>\n",
       "      <td>0.0</td>\n",
       "      <td>0.0</td>\n",
       "      <td>0.0</td>\n",
       "      <td>0.0</td>\n",
       "      <td>0.0</td>\n",
       "      <td>0.0</td>\n",
       "      <td>0.0</td>\n",
       "      <td>0.0</td>\n",
       "      <td>...</td>\n",
       "      <td>0.0</td>\n",
       "      <td>0.0</td>\n",
       "      <td>0.000000</td>\n",
       "      <td>0.0</td>\n",
       "      <td>0.0</td>\n",
       "      <td>0.0</td>\n",
       "      <td>0.0</td>\n",
       "      <td>0.0</td>\n",
       "      <td>0.0</td>\n",
       "      <td>0.0</td>\n",
       "    </tr>\n",
       "    <tr>\n",
       "      <th>2</th>\n",
       "      <td>0.0</td>\n",
       "      <td>0.0</td>\n",
       "      <td>0.0</td>\n",
       "      <td>0.0</td>\n",
       "      <td>0.0</td>\n",
       "      <td>0.0</td>\n",
       "      <td>0.0</td>\n",
       "      <td>0.0</td>\n",
       "      <td>0.0</td>\n",
       "      <td>0.0</td>\n",
       "      <td>...</td>\n",
       "      <td>0.0</td>\n",
       "      <td>0.0</td>\n",
       "      <td>0.000000</td>\n",
       "      <td>0.0</td>\n",
       "      <td>0.0</td>\n",
       "      <td>0.0</td>\n",
       "      <td>0.0</td>\n",
       "      <td>0.0</td>\n",
       "      <td>0.0</td>\n",
       "      <td>0.0</td>\n",
       "    </tr>\n",
       "    <tr>\n",
       "      <th>3</th>\n",
       "      <td>0.0</td>\n",
       "      <td>0.0</td>\n",
       "      <td>0.0</td>\n",
       "      <td>0.0</td>\n",
       "      <td>0.0</td>\n",
       "      <td>0.0</td>\n",
       "      <td>0.0</td>\n",
       "      <td>0.0</td>\n",
       "      <td>0.0</td>\n",
       "      <td>0.0</td>\n",
       "      <td>...</td>\n",
       "      <td>0.0</td>\n",
       "      <td>0.0</td>\n",
       "      <td>0.000000</td>\n",
       "      <td>0.0</td>\n",
       "      <td>0.0</td>\n",
       "      <td>0.0</td>\n",
       "      <td>0.0</td>\n",
       "      <td>0.0</td>\n",
       "      <td>0.0</td>\n",
       "      <td>0.0</td>\n",
       "    </tr>\n",
       "    <tr>\n",
       "      <th>4</th>\n",
       "      <td>0.0</td>\n",
       "      <td>0.0</td>\n",
       "      <td>0.0</td>\n",
       "      <td>0.0</td>\n",
       "      <td>0.0</td>\n",
       "      <td>0.0</td>\n",
       "      <td>0.0</td>\n",
       "      <td>0.0</td>\n",
       "      <td>0.0</td>\n",
       "      <td>0.0</td>\n",
       "      <td>...</td>\n",
       "      <td>0.0</td>\n",
       "      <td>0.0</td>\n",
       "      <td>0.000000</td>\n",
       "      <td>0.0</td>\n",
       "      <td>0.0</td>\n",
       "      <td>0.0</td>\n",
       "      <td>0.0</td>\n",
       "      <td>0.0</td>\n",
       "      <td>0.0</td>\n",
       "      <td>0.0</td>\n",
       "    </tr>\n",
       "  </tbody>\n",
       "</table>\n",
       "<p>5 rows × 5000 columns</p>\n",
       "</div>"
      ],
      "text/plain": [
       "   007   10  100  10th  10yearold   11  11yearold   12  12yearold   13 ...   \\\n",
       "0  0.0  0.0  0.0   0.0        0.0  0.0        0.0  0.0        0.0  0.0 ...    \n",
       "1  0.0  0.0  0.0   0.0        0.0  0.0        0.0  0.0        0.0  0.0 ...    \n",
       "2  0.0  0.0  0.0   0.0        0.0  0.0        0.0  0.0        0.0  0.0 ...    \n",
       "3  0.0  0.0  0.0   0.0        0.0  0.0        0.0  0.0        0.0  0.0 ...    \n",
       "4  0.0  0.0  0.0   0.0        0.0  0.0        0.0  0.0        0.0  0.0 ...    \n",
       "\n",
       "   youngest  youngsters     youth  zeus  zion  zoe  zombie  zombies  zone  zoo  \n",
       "0       0.0         0.0  0.130395   0.0   0.0  0.0     0.0      0.0   0.0  0.0  \n",
       "1       0.0         0.0  0.000000   0.0   0.0  0.0     0.0      0.0   0.0  0.0  \n",
       "2       0.0         0.0  0.000000   0.0   0.0  0.0     0.0      0.0   0.0  0.0  \n",
       "3       0.0         0.0  0.000000   0.0   0.0  0.0     0.0      0.0   0.0  0.0  \n",
       "4       0.0         0.0  0.000000   0.0   0.0  0.0     0.0      0.0   0.0  0.0  \n",
       "\n",
       "[5 rows x 5000 columns]"
      ]
     },
     "execution_count": 22,
     "metadata": {},
     "output_type": "execute_result"
    }
   ],
   "source": [
    "#Check results train data\n",
    "text_features_train.head()"
   ]
  },
  {
   "cell_type": "code",
   "execution_count": 23,
   "metadata": {},
   "outputs": [
    {
     "data": {
      "text/html": [
       "<div>\n",
       "<style>\n",
       "    .dataframe thead tr:only-child th {\n",
       "        text-align: right;\n",
       "    }\n",
       "\n",
       "    .dataframe thead th {\n",
       "        text-align: left;\n",
       "    }\n",
       "\n",
       "    .dataframe tbody tr th {\n",
       "        vertical-align: top;\n",
       "    }\n",
       "</style>\n",
       "<table border=\"1\" class=\"dataframe\">\n",
       "  <thead>\n",
       "    <tr style=\"text-align: right;\">\n",
       "      <th></th>\n",
       "      <th>007</th>\n",
       "      <th>10</th>\n",
       "      <th>100</th>\n",
       "      <th>10th</th>\n",
       "      <th>10yearold</th>\n",
       "      <th>11</th>\n",
       "      <th>11yearold</th>\n",
       "      <th>12</th>\n",
       "      <th>12yearold</th>\n",
       "      <th>13</th>\n",
       "      <th>...</th>\n",
       "      <th>youngest</th>\n",
       "      <th>youngsters</th>\n",
       "      <th>youth</th>\n",
       "      <th>zeus</th>\n",
       "      <th>zion</th>\n",
       "      <th>zoe</th>\n",
       "      <th>zombie</th>\n",
       "      <th>zombies</th>\n",
       "      <th>zone</th>\n",
       "      <th>zoo</th>\n",
       "    </tr>\n",
       "  </thead>\n",
       "  <tbody>\n",
       "    <tr>\n",
       "      <th>0</th>\n",
       "      <td>0.0</td>\n",
       "      <td>0.0</td>\n",
       "      <td>0.0</td>\n",
       "      <td>0.0</td>\n",
       "      <td>0.0</td>\n",
       "      <td>0.0</td>\n",
       "      <td>0.0</td>\n",
       "      <td>0.0</td>\n",
       "      <td>0.0</td>\n",
       "      <td>0.0</td>\n",
       "      <td>...</td>\n",
       "      <td>0.0</td>\n",
       "      <td>0.0</td>\n",
       "      <td>0.0</td>\n",
       "      <td>0.0</td>\n",
       "      <td>0.0</td>\n",
       "      <td>0.0</td>\n",
       "      <td>0.0</td>\n",
       "      <td>0.0</td>\n",
       "      <td>0.0</td>\n",
       "      <td>0.0</td>\n",
       "    </tr>\n",
       "    <tr>\n",
       "      <th>1</th>\n",
       "      <td>0.0</td>\n",
       "      <td>0.0</td>\n",
       "      <td>0.0</td>\n",
       "      <td>0.0</td>\n",
       "      <td>0.0</td>\n",
       "      <td>0.0</td>\n",
       "      <td>0.0</td>\n",
       "      <td>0.0</td>\n",
       "      <td>0.0</td>\n",
       "      <td>0.0</td>\n",
       "      <td>...</td>\n",
       "      <td>0.0</td>\n",
       "      <td>0.0</td>\n",
       "      <td>0.0</td>\n",
       "      <td>0.0</td>\n",
       "      <td>0.0</td>\n",
       "      <td>0.0</td>\n",
       "      <td>0.0</td>\n",
       "      <td>0.0</td>\n",
       "      <td>0.0</td>\n",
       "      <td>0.0</td>\n",
       "    </tr>\n",
       "    <tr>\n",
       "      <th>2</th>\n",
       "      <td>0.0</td>\n",
       "      <td>0.0</td>\n",
       "      <td>0.0</td>\n",
       "      <td>0.0</td>\n",
       "      <td>0.0</td>\n",
       "      <td>0.0</td>\n",
       "      <td>0.0</td>\n",
       "      <td>0.0</td>\n",
       "      <td>0.0</td>\n",
       "      <td>0.0</td>\n",
       "      <td>...</td>\n",
       "      <td>0.0</td>\n",
       "      <td>0.0</td>\n",
       "      <td>0.0</td>\n",
       "      <td>0.0</td>\n",
       "      <td>0.0</td>\n",
       "      <td>0.0</td>\n",
       "      <td>0.0</td>\n",
       "      <td>0.0</td>\n",
       "      <td>0.0</td>\n",
       "      <td>0.0</td>\n",
       "    </tr>\n",
       "    <tr>\n",
       "      <th>3</th>\n",
       "      <td>0.0</td>\n",
       "      <td>0.0</td>\n",
       "      <td>0.0</td>\n",
       "      <td>0.0</td>\n",
       "      <td>0.0</td>\n",
       "      <td>0.0</td>\n",
       "      <td>0.0</td>\n",
       "      <td>0.0</td>\n",
       "      <td>0.0</td>\n",
       "      <td>0.0</td>\n",
       "      <td>...</td>\n",
       "      <td>0.0</td>\n",
       "      <td>0.0</td>\n",
       "      <td>0.0</td>\n",
       "      <td>0.0</td>\n",
       "      <td>0.0</td>\n",
       "      <td>0.0</td>\n",
       "      <td>0.0</td>\n",
       "      <td>0.0</td>\n",
       "      <td>0.0</td>\n",
       "      <td>0.0</td>\n",
       "    </tr>\n",
       "    <tr>\n",
       "      <th>4</th>\n",
       "      <td>0.0</td>\n",
       "      <td>0.0</td>\n",
       "      <td>0.0</td>\n",
       "      <td>0.0</td>\n",
       "      <td>0.0</td>\n",
       "      <td>0.0</td>\n",
       "      <td>0.0</td>\n",
       "      <td>0.0</td>\n",
       "      <td>0.0</td>\n",
       "      <td>0.0</td>\n",
       "      <td>...</td>\n",
       "      <td>0.0</td>\n",
       "      <td>0.0</td>\n",
       "      <td>0.0</td>\n",
       "      <td>0.0</td>\n",
       "      <td>0.0</td>\n",
       "      <td>0.0</td>\n",
       "      <td>0.0</td>\n",
       "      <td>0.0</td>\n",
       "      <td>0.0</td>\n",
       "      <td>0.0</td>\n",
       "    </tr>\n",
       "  </tbody>\n",
       "</table>\n",
       "<p>5 rows × 5000 columns</p>\n",
       "</div>"
      ],
      "text/plain": [
       "   007   10  100  10th  10yearold   11  11yearold   12  12yearold   13 ...   \\\n",
       "0  0.0  0.0  0.0   0.0        0.0  0.0        0.0  0.0        0.0  0.0 ...    \n",
       "1  0.0  0.0  0.0   0.0        0.0  0.0        0.0  0.0        0.0  0.0 ...    \n",
       "2  0.0  0.0  0.0   0.0        0.0  0.0        0.0  0.0        0.0  0.0 ...    \n",
       "3  0.0  0.0  0.0   0.0        0.0  0.0        0.0  0.0        0.0  0.0 ...    \n",
       "4  0.0  0.0  0.0   0.0        0.0  0.0        0.0  0.0        0.0  0.0 ...    \n",
       "\n",
       "   youngest  youngsters  youth  zeus  zion  zoe  zombie  zombies  zone  zoo  \n",
       "0       0.0         0.0    0.0   0.0   0.0  0.0     0.0      0.0   0.0  0.0  \n",
       "1       0.0         0.0    0.0   0.0   0.0  0.0     0.0      0.0   0.0  0.0  \n",
       "2       0.0         0.0    0.0   0.0   0.0  0.0     0.0      0.0   0.0  0.0  \n",
       "3       0.0         0.0    0.0   0.0   0.0  0.0     0.0      0.0   0.0  0.0  \n",
       "4       0.0         0.0    0.0   0.0   0.0  0.0     0.0      0.0   0.0  0.0  \n",
       "\n",
       "[5 rows x 5000 columns]"
      ]
     },
     "execution_count": 23,
     "metadata": {},
     "output_type": "execute_result"
    }
   ],
   "source": [
    "#Check results test data\n",
    "text_features_test.head()"
   ]
  },
  {
   "cell_type": "code",
   "execution_count": 24,
   "metadata": {},
   "outputs": [],
   "source": [
    "#Final dataframe with vectorized words\n",
    "final_train_df=pd.concat([x_train_df, text_features_train], axis=1)\n",
    "final_test_df=pd.concat([x_test_df, text_features_test], axis=1)"
   ]
  },
  {
   "cell_type": "code",
   "execution_count": 25,
   "metadata": {},
   "outputs": [],
   "source": [
    "final_train_df.to_csv('Output/NLP_popularity/NLP_train_results.csv')\n",
    "final_test_df.to_csv('Output/NLP_popularity/NLP_test_results.csv')"
   ]
  },
  {
   "cell_type": "markdown",
   "metadata": {},
   "source": [
    "# Run the model: Random Forest Regressor"
   ]
  },
  {
   "cell_type": "code",
   "execution_count": 26,
   "metadata": {},
   "outputs": [
    {
     "data": {
      "text/plain": [
       "RandomForestRegressor(bootstrap=True, criterion='mse', max_depth=None,\n",
       "           max_features='auto', max_leaf_nodes=None,\n",
       "           min_impurity_decrease=0.0, min_impurity_split=None,\n",
       "           min_samples_leaf=1, min_samples_split=2,\n",
       "           min_weight_fraction_leaf=0.0, n_estimators=10, n_jobs=1,\n",
       "           oob_score=False, random_state=None, verbose=0, warm_start=False)"
      ]
     },
     "execution_count": 26,
     "metadata": {},
     "output_type": "execute_result"
    }
   ],
   "source": [
    "from sklearn.ensemble import RandomForestRegressor\n",
    "\n",
    "clf = RandomForestRegressor()\n",
    "clf.fit(text_features_train, y_train_df[\"popularity\"])"
   ]
  },
  {
   "cell_type": "code",
   "execution_count": 27,
   "metadata": {},
   "outputs": [
    {
     "data": {
      "text/plain": [
       "alongside        0.056362\n",
       "hatches          0.053648\n",
       "discovering      0.021602\n",
       "origin           0.014995\n",
       "fully            0.014703\n",
       "humor            0.012810\n",
       "sparrow          0.011191\n",
       "theme            0.011105\n",
       "earth            0.010932\n",
       "hammond          0.010833\n",
       "hogwarts         0.010724\n",
       "prime            0.010086\n",
       "symbol           0.009519\n",
       "abducted         0.009156\n",
       "katniss          0.008505\n",
       "humanity         0.007598\n",
       "batman           0.007475\n",
       "plague           0.007114\n",
       "gotham           0.006994\n",
       "epic             0.006739\n",
       "aftermath        0.006520\n",
       "governments      0.006481\n",
       "powerful         0.005994\n",
       "nearly           0.005960\n",
       "dwarves          0.005862\n",
       "maintain         0.005798\n",
       "manhunt          0.005571\n",
       "named            0.005290\n",
       "hightech         0.005012\n",
       "challenge        0.004970\n",
       "                   ...   \n",
       "unorthodox       0.000000\n",
       "mccain           0.000000\n",
       "sean             0.000000\n",
       "education        0.000000\n",
       "dysfunctional    0.000000\n",
       "unfolds          0.000000\n",
       "mass             0.000000\n",
       "chagrin          0.000000\n",
       "rebecca          0.000000\n",
       "earn             0.000000\n",
       "unfortunate      0.000000\n",
       "earned           0.000000\n",
       "material         0.000000\n",
       "eastern          0.000000\n",
       "matter           0.000000\n",
       "celebrated       0.000000\n",
       "maverick         0.000000\n",
       "maximus          0.000000\n",
       "eat              0.000000\n",
       "im               0.000000\n",
       "unleashed        0.000000\n",
       "maybe            0.000000\n",
       "illiterate       0.000000\n",
       "surprises        0.000000\n",
       "economy          0.000000\n",
       "catch            0.000000\n",
       "surprised        0.000000\n",
       "illicit          0.000000\n",
       "ignites          0.000000\n",
       "frozen           0.000000\n",
       "Length: 5000, dtype: float64"
      ]
     },
     "execution_count": 27,
     "metadata": {},
     "output_type": "execute_result"
    }
   ],
   "source": [
    "#Model results: Words more correlated to popularity\n",
    "pd.Series(clf.feature_importances_, index=text_features_train.columns).sort_values(ascending=False)"
   ]
  },
  {
   "cell_type": "code",
   "execution_count": 28,
   "metadata": {},
   "outputs": [],
   "source": [
    "#Export results in csv format\n",
    "pd.Series(clf.feature_importances_, index=text_features_train.columns).sort_values(ascending=False).to_csv('Output/NLP_popularity/most_correlated_words.csv')"
   ]
  },
  {
   "cell_type": "markdown",
   "metadata": {},
   "source": [
    "# Make predictions: Test data"
   ]
  },
  {
   "cell_type": "code",
   "execution_count": 29,
   "metadata": {},
   "outputs": [],
   "source": [
    "predictions = clf.predict(text_features_test.values).tolist()"
   ]
  },
  {
   "cell_type": "code",
   "execution_count": 30,
   "metadata": {},
   "outputs": [],
   "source": [
    "df_predictions = pd.DataFrame({'predictions_popularity':predictions})"
   ]
  },
  {
   "cell_type": "code",
   "execution_count": 31,
   "metadata": {},
   "outputs": [],
   "source": [
    "final_test_predictions_df=pd.concat([x_test_df, df_predictions], axis=1)"
   ]
  },
  {
   "cell_type": "code",
   "execution_count": 32,
   "metadata": {},
   "outputs": [
    {
     "data": {
      "text/html": [
       "<div>\n",
       "<style>\n",
       "    .dataframe thead tr:only-child th {\n",
       "        text-align: right;\n",
       "    }\n",
       "\n",
       "    .dataframe thead th {\n",
       "        text-align: left;\n",
       "    }\n",
       "\n",
       "    .dataframe tbody tr th {\n",
       "        vertical-align: top;\n",
       "    }\n",
       "</style>\n",
       "<table border=\"1\" class=\"dataframe\">\n",
       "  <thead>\n",
       "    <tr style=\"text-align: right;\">\n",
       "      <th></th>\n",
       "      <th>index</th>\n",
       "      <th>id</th>\n",
       "      <th>budget</th>\n",
       "      <th>revenue</th>\n",
       "      <th>popularity</th>\n",
       "      <th>original_title</th>\n",
       "      <th>overview</th>\n",
       "      <th>overview_sw</th>\n",
       "      <th>predictions_popularity</th>\n",
       "    </tr>\n",
       "  </thead>\n",
       "  <tbody>\n",
       "    <tr>\n",
       "      <th>0</th>\n",
       "      <td>2403</td>\n",
       "      <td>679</td>\n",
       "      <td>18500000</td>\n",
       "      <td>183316455</td>\n",
       "      <td>67.660940</td>\n",
       "      <td>Aliens</td>\n",
       "      <td>When Ripley's lifepod is found by a salvage cr...</td>\n",
       "      <td>ripleys lifepod found salvage crew 50 years la...</td>\n",
       "      <td>24.765056</td>\n",
       "    </tr>\n",
       "    <tr>\n",
       "      <th>1</th>\n",
       "      <td>2450</td>\n",
       "      <td>2977</td>\n",
       "      <td>16500000</td>\n",
       "      <td>37311672</td>\n",
       "      <td>18.236284</td>\n",
       "      <td>Becoming Jane</td>\n",
       "      <td>A biographical portrait of a pre-fame Jane Aus...</td>\n",
       "      <td>biographical portrait prefame jane austen roma...</td>\n",
       "      <td>7.425448</td>\n",
       "    </tr>\n",
       "    <tr>\n",
       "      <th>2</th>\n",
       "      <td>4211</td>\n",
       "      <td>1651</td>\n",
       "      <td>0</td>\n",
       "      <td>0</td>\n",
       "      <td>3.654018</td>\n",
       "      <td>La sirène du Mississipi</td>\n",
       "      <td>Adapted from a story by William Irish, it's a ...</td>\n",
       "      <td>adapted story william irish noirish tale man o...</td>\n",
       "      <td>11.587493</td>\n",
       "    </tr>\n",
       "    <tr>\n",
       "      <th>3</th>\n",
       "      <td>4179</td>\n",
       "      <td>260778</td>\n",
       "      <td>0</td>\n",
       "      <td>0</td>\n",
       "      <td>0.320387</td>\n",
       "      <td>வாலு</td>\n",
       "      <td>Sharp (Simbu), a happy-go-lucky guy, loves Pri...</td>\n",
       "      <td>sharp simbu happygolucky guy loves priya hansi...</td>\n",
       "      <td>15.659098</td>\n",
       "    </tr>\n",
       "    <tr>\n",
       "      <th>4</th>\n",
       "      <td>4526</td>\n",
       "      <td>36825</td>\n",
       "      <td>0</td>\n",
       "      <td>0</td>\n",
       "      <td>0.082978</td>\n",
       "      <td>The R.M.</td>\n",
       "      <td>Jared Phelps (Kirby Heyborne) has completed tw...</td>\n",
       "      <td>jared phelps kirby heyborne completed two year...</td>\n",
       "      <td>17.546350</td>\n",
       "    </tr>\n",
       "  </tbody>\n",
       "</table>\n",
       "</div>"
      ],
      "text/plain": [
       "   index      id    budget    revenue  popularity           original_title  \\\n",
       "0   2403     679  18500000  183316455   67.660940                   Aliens   \n",
       "1   2450    2977  16500000   37311672   18.236284            Becoming Jane   \n",
       "2   4211    1651         0          0    3.654018  La sirène du Mississipi   \n",
       "3   4179  260778         0          0    0.320387                     வாலு   \n",
       "4   4526   36825         0          0    0.082978                 The R.M.   \n",
       "\n",
       "                                            overview  \\\n",
       "0  When Ripley's lifepod is found by a salvage cr...   \n",
       "1  A biographical portrait of a pre-fame Jane Aus...   \n",
       "2  Adapted from a story by William Irish, it's a ...   \n",
       "3  Sharp (Simbu), a happy-go-lucky guy, loves Pri...   \n",
       "4  Jared Phelps (Kirby Heyborne) has completed tw...   \n",
       "\n",
       "                                         overview_sw  predictions_popularity  \n",
       "0  ripleys lifepod found salvage crew 50 years la...               24.765056  \n",
       "1  biographical portrait prefame jane austen roma...                7.425448  \n",
       "2  adapted story william irish noirish tale man o...               11.587493  \n",
       "3  sharp simbu happygolucky guy loves priya hansi...               15.659098  \n",
       "4  jared phelps kirby heyborne completed two year...               17.546350  "
      ]
     },
     "execution_count": 32,
     "metadata": {},
     "output_type": "execute_result"
    }
   ],
   "source": [
    "#Check results of predictions\n",
    "final_test_predictions_df.head()"
   ]
  },
  {
   "cell_type": "code",
   "execution_count": 33,
   "metadata": {},
   "outputs": [],
   "source": [
    "final_test_predictions_df[\"variance\"]=((final_test_predictions_df['predictions_popularity']-final_test_predictions_df['popularity']).div(final_test_predictions_df.popularity, axis=0))*100\n",
    "\n",
    "final_test_predictions_df.to_csv(\"Output/NLP_popularity/predictions_results_variance.csv\")"
   ]
  },
  {
   "cell_type": "markdown",
   "metadata": {},
   "source": [
    "# Score the model"
   ]
  },
  {
   "cell_type": "code",
   "execution_count": 34,
   "metadata": {},
   "outputs": [
    {
     "data": {
      "text/plain": [
       "-0.073779705121055139"
      ]
     },
     "execution_count": 34,
     "metadata": {},
     "output_type": "execute_result"
    }
   ],
   "source": [
    "from sklearn.metrics import r2_score\n",
    "\n",
    "test_score = r2_score(y_test_df[\"popularity\"], predictions)\n",
    "test_score"
   ]
  },
  {
   "cell_type": "markdown",
   "metadata": {},
   "source": [
    "# Download model"
   ]
  },
  {
   "cell_type": "code",
   "execution_count": 35,
   "metadata": {},
   "outputs": [
    {
     "data": {
      "text/plain": [
       "['NLP_model_popularity.pkl']"
      ]
     },
     "execution_count": 35,
     "metadata": {},
     "output_type": "execute_result"
    }
   ],
   "source": [
    "from sklearn.externals import joblib\n",
    "joblib.dump(clf, 'NLP_model_popularity.pkl')"
   ]
  },
  {
   "cell_type": "code",
   "execution_count": 36,
   "metadata": {},
   "outputs": [
    {
     "data": {
      "text/plain": [
       "['NLP_vectorizer_popularity.pkl']"
      ]
     },
     "execution_count": 36,
     "metadata": {},
     "output_type": "execute_result"
    }
   ],
   "source": [
    "joblib.dump(vec_train,'NLP_vectorizer_popularity.pkl')"
   ]
  },
  {
   "cell_type": "code",
   "execution_count": null,
   "metadata": {},
   "outputs": [],
   "source": []
  }
 ],
 "metadata": {
  "kernelspec": {
   "display_name": "Python 3",
   "language": "python",
   "name": "python3"
  },
  "language_info": {
   "codemirror_mode": {
    "name": "ipython",
    "version": 3
   },
   "file_extension": ".py",
   "mimetype": "text/x-python",
   "name": "python",
   "nbconvert_exporter": "python",
   "pygments_lexer": "ipython3",
   "version": "3.6.3"
  }
 },
 "nbformat": 4,
 "nbformat_minor": 2
}
