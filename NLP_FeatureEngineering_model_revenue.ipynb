{
 "cells": [
  {
   "cell_type": "markdown",
   "metadata": {},
   "source": [
    "# NLP for Data Movies"
   ]
  },
  {
   "cell_type": "markdown",
   "metadata": {},
   "source": [
    "#### The purpose of this analysis is to found a correlation between movie overviews and revenue. In order to understand a text such as \"Overview\" we need to decode it making use of NLP tecniques.\n",
    "#### Next step will be use those vectorized overviews and fit a model to make predictions."
   ]
  },
  {
   "cell_type": "markdown",
   "metadata": {},
   "source": [
    "# Getting Data\n",
    "### Source: Kaggle from IMDB"
   ]
  },
  {
   "cell_type": "code",
   "execution_count": 1,
   "metadata": {},
   "outputs": [],
   "source": [
    "import matplotlib.pyplot as plt\n",
    "import pandas as pd\n",
    "import os"
   ]
  },
  {
   "cell_type": "code",
   "execution_count": 2,
   "metadata": {},
   "outputs": [],
   "source": [
    "movies = pd.read_csv(os.path.join('RawData', 'tmdb_5000_movies.csv'))"
   ]
  },
  {
   "cell_type": "code",
   "execution_count": 3,
   "metadata": {},
   "outputs": [],
   "source": [
    "df_movies = movies[['id','budget','revenue','popularity','original_title','overview']]"
   ]
  },
  {
   "cell_type": "code",
   "execution_count": 4,
   "metadata": {},
   "outputs": [
    {
     "data": {
      "text/html": [
       "<div>\n",
       "<style>\n",
       "    .dataframe thead tr:only-child th {\n",
       "        text-align: right;\n",
       "    }\n",
       "\n",
       "    .dataframe thead th {\n",
       "        text-align: left;\n",
       "    }\n",
       "\n",
       "    .dataframe tbody tr th {\n",
       "        vertical-align: top;\n",
       "    }\n",
       "</style>\n",
       "<table border=\"1\" class=\"dataframe\">\n",
       "  <thead>\n",
       "    <tr style=\"text-align: right;\">\n",
       "      <th></th>\n",
       "      <th>id</th>\n",
       "      <th>budget</th>\n",
       "      <th>revenue</th>\n",
       "      <th>popularity</th>\n",
       "      <th>original_title</th>\n",
       "      <th>overview</th>\n",
       "    </tr>\n",
       "  </thead>\n",
       "  <tbody>\n",
       "    <tr>\n",
       "      <th>0</th>\n",
       "      <td>19995</td>\n",
       "      <td>237000000</td>\n",
       "      <td>2787965087</td>\n",
       "      <td>150.437577</td>\n",
       "      <td>Avatar</td>\n",
       "      <td>In the 22nd century, a paraplegic Marine is di...</td>\n",
       "    </tr>\n",
       "    <tr>\n",
       "      <th>1</th>\n",
       "      <td>285</td>\n",
       "      <td>300000000</td>\n",
       "      <td>961000000</td>\n",
       "      <td>139.082615</td>\n",
       "      <td>Pirates of the Caribbean: At World's End</td>\n",
       "      <td>Captain Barbossa, long believed to be dead, ha...</td>\n",
       "    </tr>\n",
       "    <tr>\n",
       "      <th>2</th>\n",
       "      <td>206647</td>\n",
       "      <td>245000000</td>\n",
       "      <td>880674609</td>\n",
       "      <td>107.376788</td>\n",
       "      <td>Spectre</td>\n",
       "      <td>A cryptic message from Bond’s past sends him o...</td>\n",
       "    </tr>\n",
       "    <tr>\n",
       "      <th>3</th>\n",
       "      <td>49026</td>\n",
       "      <td>250000000</td>\n",
       "      <td>1084939099</td>\n",
       "      <td>112.312950</td>\n",
       "      <td>The Dark Knight Rises</td>\n",
       "      <td>Following the death of District Attorney Harve...</td>\n",
       "    </tr>\n",
       "    <tr>\n",
       "      <th>4</th>\n",
       "      <td>49529</td>\n",
       "      <td>260000000</td>\n",
       "      <td>284139100</td>\n",
       "      <td>43.926995</td>\n",
       "      <td>John Carter</td>\n",
       "      <td>John Carter is a war-weary, former military ca...</td>\n",
       "    </tr>\n",
       "  </tbody>\n",
       "</table>\n",
       "</div>"
      ],
      "text/plain": [
       "       id     budget     revenue  popularity  \\\n",
       "0   19995  237000000  2787965087  150.437577   \n",
       "1     285  300000000   961000000  139.082615   \n",
       "2  206647  245000000   880674609  107.376788   \n",
       "3   49026  250000000  1084939099  112.312950   \n",
       "4   49529  260000000   284139100   43.926995   \n",
       "\n",
       "                             original_title  \\\n",
       "0                                    Avatar   \n",
       "1  Pirates of the Caribbean: At World's End   \n",
       "2                                   Spectre   \n",
       "3                     The Dark Knight Rises   \n",
       "4                               John Carter   \n",
       "\n",
       "                                            overview  \n",
       "0  In the 22nd century, a paraplegic Marine is di...  \n",
       "1  Captain Barbossa, long believed to be dead, ha...  \n",
       "2  A cryptic message from Bond’s past sends him o...  \n",
       "3  Following the death of District Attorney Harve...  \n",
       "4  John Carter is a war-weary, former military ca...  "
      ]
     },
     "execution_count": 4,
     "metadata": {},
     "output_type": "execute_result"
    }
   ],
   "source": [
    "df_movies.head()"
   ]
  },
  {
   "cell_type": "code",
   "execution_count": 5,
   "metadata": {},
   "outputs": [],
   "source": [
    "df_movies.to_csv('Output/NLP_revenue/df_movies_original_dataframe.csv')"
   ]
  },
  {
   "cell_type": "markdown",
   "metadata": {},
   "source": [
    "# Cleaning Data"
   ]
  },
  {
   "cell_type": "code",
   "execution_count": 6,
   "metadata": {},
   "outputs": [],
   "source": [
    "#Cleaning rows with no revenue \n",
    "df_movies = df_movies.drop(df_movies[df_movies.revenue == 0].index)"
   ]
  },
  {
   "cell_type": "code",
   "execution_count": 7,
   "metadata": {},
   "outputs": [
    {
     "data": {
      "text/plain": [
       "id                3376\n",
       "budget            3376\n",
       "revenue           3376\n",
       "popularity        3376\n",
       "original_title    3376\n",
       "overview          3376\n",
       "dtype: int64"
      ]
     },
     "execution_count": 7,
     "metadata": {},
     "output_type": "execute_result"
    }
   ],
   "source": [
    "df_movies.count()"
   ]
  },
  {
   "cell_type": "code",
   "execution_count": 8,
   "metadata": {},
   "outputs": [
    {
     "data": {
      "text/html": [
       "<div>\n",
       "<style>\n",
       "    .dataframe thead tr:only-child th {\n",
       "        text-align: right;\n",
       "    }\n",
       "\n",
       "    .dataframe thead th {\n",
       "        text-align: left;\n",
       "    }\n",
       "\n",
       "    .dataframe tbody tr th {\n",
       "        vertical-align: top;\n",
       "    }\n",
       "</style>\n",
       "<table border=\"1\" class=\"dataframe\">\n",
       "  <thead>\n",
       "    <tr style=\"text-align: right;\">\n",
       "      <th></th>\n",
       "      <th>id</th>\n",
       "      <th>budget</th>\n",
       "      <th>revenue</th>\n",
       "      <th>popularity</th>\n",
       "      <th>original_title</th>\n",
       "      <th>overview</th>\n",
       "    </tr>\n",
       "  </thead>\n",
       "  <tbody>\n",
       "  </tbody>\n",
       "</table>\n",
       "</div>"
      ],
      "text/plain": [
       "Empty DataFrame\n",
       "Columns: [id, budget, revenue, popularity, original_title, overview]\n",
       "Index: []"
      ]
     },
     "execution_count": 8,
     "metadata": {},
     "output_type": "execute_result"
    }
   ],
   "source": [
    "#Check if there is any movie without overview\n",
    "df_movies[pd.isnull(df_movies[\"overview\"])]"
   ]
  },
  {
   "cell_type": "markdown",
   "metadata": {},
   "source": [
    "# Feature Engineering NLP"
   ]
  },
  {
   "cell_type": "code",
   "execution_count": 9,
   "metadata": {},
   "outputs": [],
   "source": [
    "import pandas as pd\n",
    "import numpy as np\n",
    "from sklearn.model_selection import train_test_split"
   ]
  },
  {
   "cell_type": "code",
   "execution_count": 10,
   "metadata": {},
   "outputs": [],
   "source": [
    "#Split data into train and test\n",
    "x_train,x_test, y_train,y_test = train_test_split(df_movies,df_movies[\"revenue\"], test_size=0.2)\n",
    "\n",
    "x_train_df=x_train.reset_index()\n",
    "y_train_df=y_train.reset_index()\n",
    "\n",
    "x_test_df=x_test.reset_index()\n",
    "y_test_df=y_test.reset_index()"
   ]
  },
  {
   "cell_type": "markdown",
   "metadata": {},
   "source": [
    "## Remove stop words"
   ]
  },
  {
   "cell_type": "code",
   "execution_count": 11,
   "metadata": {},
   "outputs": [
    {
     "name": "stdout",
     "output_type": "stream",
     "text": [
      "[nltk_data] Downloading package stopwords to C:\\nltk_data...\n",
      "[nltk_data]   Package stopwords is already up-to-date!\n"
     ]
    }
   ],
   "source": [
    "#Download library for stopwords\n",
    "import nltk\n",
    "nltk.download('stopwords')\n",
    "from nltk.corpus import stopwords"
   ]
  },
  {
   "cell_type": "code",
   "execution_count": 12,
   "metadata": {},
   "outputs": [],
   "source": [
    "#Cleaning stop words and some regular expresiions such as: punctuation marks, numbers.\n",
    "import re\n",
    "\n",
    "REPLACE_BY_SPACE_RE = re.compile('[/(){}\\[\\]\\|@,;]\"')\n",
    "BAD_SYMBOLS_RE = re.compile('[^0-9a-z #+_]')\n",
    "STOPWORDS = set(stopwords.words('english'))\n",
    "\n",
    "def text_prepare(text):\n",
    "    \"\"\"\n",
    "        text: a string\n",
    "        \n",
    "        return: modified initial string\n",
    "    \"\"\"\n",
    "    \n",
    "    text = text.lower()\n",
    "    text = re.sub(REPLACE_BY_SPACE_RE,\" \",text)\n",
    "    text = re.sub(BAD_SYMBOLS_RE,\"\",text)\n",
    "    text = ' '.join([word for word in text.split() if word not in STOPWORDS])\n",
    "    \n",
    "    return text"
   ]
  },
  {
   "cell_type": "code",
   "execution_count": 13,
   "metadata": {},
   "outputs": [
    {
     "data": {
      "text/plain": [
       "'captain barbossa long believed dead come back life headed edge earth turner elizabeth swann nothing quite seems'"
      ]
     },
     "execution_count": 13,
     "metadata": {},
     "output_type": "execute_result"
    }
   ],
   "source": [
    "#Testing function\n",
    "text_prepare(\"Captain Barbossa, long believed to be dead, has come back to life and is headed to the edge of the Earth with Will Turner and Elizabeth Swann. But nothing is quite as it seems\")"
   ]
  },
  {
   "cell_type": "code",
   "execution_count": 14,
   "metadata": {},
   "outputs": [],
   "source": [
    "#Applying function to all overviews in data set\n",
    "ls_train = [text_prepare(x) for x in x_train_df['overview']]\n",
    "ls_test = [text_prepare(x) for x in x_test_df['overview']]"
   ]
  },
  {
   "cell_type": "code",
   "execution_count": 15,
   "metadata": {
    "scrolled": true
   },
   "outputs": [],
   "source": [
    "#Join dataframe with a new column: Overview without stop words\n",
    "x_train_df['overview_sw']=ls_train\n",
    "x_test_df['overview_sw']=ls_test"
   ]
  },
  {
   "cell_type": "code",
   "execution_count": 16,
   "metadata": {},
   "outputs": [
    {
     "data": {
      "text/html": [
       "<div>\n",
       "<style>\n",
       "    .dataframe thead tr:only-child th {\n",
       "        text-align: right;\n",
       "    }\n",
       "\n",
       "    .dataframe thead th {\n",
       "        text-align: left;\n",
       "    }\n",
       "\n",
       "    .dataframe tbody tr th {\n",
       "        vertical-align: top;\n",
       "    }\n",
       "</style>\n",
       "<table border=\"1\" class=\"dataframe\">\n",
       "  <thead>\n",
       "    <tr style=\"text-align: right;\">\n",
       "      <th></th>\n",
       "      <th>index</th>\n",
       "      <th>id</th>\n",
       "      <th>budget</th>\n",
       "      <th>revenue</th>\n",
       "      <th>popularity</th>\n",
       "      <th>original_title</th>\n",
       "      <th>overview</th>\n",
       "      <th>overview_sw</th>\n",
       "    </tr>\n",
       "  </thead>\n",
       "  <tbody>\n",
       "    <tr>\n",
       "      <th>0</th>\n",
       "      <td>1381</td>\n",
       "      <td>39486</td>\n",
       "      <td>35000000</td>\n",
       "      <td>60251371</td>\n",
       "      <td>9.525037</td>\n",
       "      <td>Secretariat</td>\n",
       "      <td>Housewife and mother Penny Chenery agrees to t...</td>\n",
       "      <td>housewife mother penny chenery agrees take ail...</td>\n",
       "    </tr>\n",
       "    <tr>\n",
       "      <th>1</th>\n",
       "      <td>1791</td>\n",
       "      <td>22894</td>\n",
       "      <td>26000000</td>\n",
       "      <td>67918658</td>\n",
       "      <td>30.981604</td>\n",
       "      <td>Legion</td>\n",
       "      <td>When God loses faith in humankind, he sends hi...</td>\n",
       "      <td>god loses faith humankind sends legion angels ...</td>\n",
       "    </tr>\n",
       "    <tr>\n",
       "      <th>2</th>\n",
       "      <td>262</td>\n",
       "      <td>120</td>\n",
       "      <td>93000000</td>\n",
       "      <td>871368364</td>\n",
       "      <td>138.049577</td>\n",
       "      <td>The Lord of the Rings: The Fellowship of the Ring</td>\n",
       "      <td>Young hobbit Frodo Baggins, after inheriting a...</td>\n",
       "      <td>young hobbit frodo baggins inheriting mysterio...</td>\n",
       "    </tr>\n",
       "    <tr>\n",
       "      <th>3</th>\n",
       "      <td>1103</td>\n",
       "      <td>5503</td>\n",
       "      <td>44000000</td>\n",
       "      <td>368875760</td>\n",
       "      <td>54.884297</td>\n",
       "      <td>The Fugitive</td>\n",
       "      <td>Wrongfully accused of murdering his wife, Rich...</td>\n",
       "      <td>wrongfully accused murdering wife richard kimb...</td>\n",
       "    </tr>\n",
       "    <tr>\n",
       "      <th>4</th>\n",
       "      <td>676</td>\n",
       "      <td>12160</td>\n",
       "      <td>63000000</td>\n",
       "      <td>25052000</td>\n",
       "      <td>13.859307</td>\n",
       "      <td>Wyatt Earp</td>\n",
       "      <td>Covering the life and times of one of the West...</td>\n",
       "      <td>covering life times one wests iconic heroes wy...</td>\n",
       "    </tr>\n",
       "  </tbody>\n",
       "</table>\n",
       "</div>"
      ],
      "text/plain": [
       "   index     id    budget    revenue  popularity  \\\n",
       "0   1381  39486  35000000   60251371    9.525037   \n",
       "1   1791  22894  26000000   67918658   30.981604   \n",
       "2    262    120  93000000  871368364  138.049577   \n",
       "3   1103   5503  44000000  368875760   54.884297   \n",
       "4    676  12160  63000000   25052000   13.859307   \n",
       "\n",
       "                                      original_title  \\\n",
       "0                                        Secretariat   \n",
       "1                                             Legion   \n",
       "2  The Lord of the Rings: The Fellowship of the Ring   \n",
       "3                                       The Fugitive   \n",
       "4                                         Wyatt Earp   \n",
       "\n",
       "                                            overview  \\\n",
       "0  Housewife and mother Penny Chenery agrees to t...   \n",
       "1  When God loses faith in humankind, he sends hi...   \n",
       "2  Young hobbit Frodo Baggins, after inheriting a...   \n",
       "3  Wrongfully accused of murdering his wife, Rich...   \n",
       "4  Covering the life and times of one of the West...   \n",
       "\n",
       "                                         overview_sw  \n",
       "0  housewife mother penny chenery agrees take ail...  \n",
       "1  god loses faith humankind sends legion angels ...  \n",
       "2  young hobbit frodo baggins inheriting mysterio...  \n",
       "3  wrongfully accused murdering wife richard kimb...  \n",
       "4  covering life times one wests iconic heroes wy...  "
      ]
     },
     "execution_count": 16,
     "metadata": {},
     "output_type": "execute_result"
    }
   ],
   "source": [
    "x_train_df.head()\n",
    "x_test_df.head()"
   ]
  },
  {
   "cell_type": "markdown",
   "metadata": {},
   "source": [
    "## Tokenize, Vectorize and TF-IDF"
   ]
  },
  {
   "cell_type": "code",
   "execution_count": 17,
   "metadata": {},
   "outputs": [],
   "source": [
    "from sklearn.feature_extraction.text import TfidfVectorizer\n",
    "\n",
    "vec_train = TfidfVectorizer(max_features=5000)\n",
    "vec_train.fit(x_train_df[\"overview_sw\"])\n",
    "transformed_train = vec_train.transform(x_train_df[\"overview_sw\"])\n",
    "text_features_train = pd.DataFrame(transformed_train.todense())\n",
    "text_features_train.columns = vec_train.get_feature_names()"
   ]
  },
  {
   "cell_type": "code",
   "execution_count": 18,
   "metadata": {},
   "outputs": [],
   "source": [
    "# vec_test = TfidfVectorizer(max_features=1000)\n",
    "# vec_test.fit(x_test_df[\"overview_sw\"])\n",
    "transformed_test = vec_train.transform(x_test_df[\"overview_sw\"])\n",
    "text_features_test = pd.DataFrame(transformed_test.todense())\n",
    "text_features_test.columns = vec_train.get_feature_names()"
   ]
  },
  {
   "cell_type": "code",
   "execution_count": 19,
   "metadata": {},
   "outputs": [
    {
     "data": {
      "text/plain": [
       "(2700, 5000)"
      ]
     },
     "execution_count": 19,
     "metadata": {},
     "output_type": "execute_result"
    }
   ],
   "source": [
    "transformed_train.shape"
   ]
  },
  {
   "cell_type": "code",
   "execution_count": 20,
   "metadata": {},
   "outputs": [
    {
     "data": {
      "text/plain": [
       "(676, 5000)"
      ]
     },
     "execution_count": 20,
     "metadata": {},
     "output_type": "execute_result"
    }
   ],
   "source": [
    "transformed_test.shape"
   ]
  },
  {
   "cell_type": "code",
   "execution_count": 21,
   "metadata": {},
   "outputs": [
    {
     "data": {
      "text/html": [
       "<div>\n",
       "<style>\n",
       "    .dataframe thead tr:only-child th {\n",
       "        text-align: right;\n",
       "    }\n",
       "\n",
       "    .dataframe thead th {\n",
       "        text-align: left;\n",
       "    }\n",
       "\n",
       "    .dataframe tbody tr th {\n",
       "        vertical-align: top;\n",
       "    }\n",
       "</style>\n",
       "<table border=\"1\" class=\"dataframe\">\n",
       "  <thead>\n",
       "    <tr style=\"text-align: right;\">\n",
       "      <th></th>\n",
       "      <th>007</th>\n",
       "      <th>10</th>\n",
       "      <th>10th</th>\n",
       "      <th>10yearold</th>\n",
       "      <th>11</th>\n",
       "      <th>11th</th>\n",
       "      <th>11yearold</th>\n",
       "      <th>12</th>\n",
       "      <th>12yearold</th>\n",
       "      <th>13</th>\n",
       "      <th>...</th>\n",
       "      <th>zebra</th>\n",
       "      <th>zero</th>\n",
       "      <th>zeus</th>\n",
       "      <th>zinos</th>\n",
       "      <th>zion</th>\n",
       "      <th>zoe</th>\n",
       "      <th>zombie</th>\n",
       "      <th>zombies</th>\n",
       "      <th>zone</th>\n",
       "      <th>zoo</th>\n",
       "    </tr>\n",
       "  </thead>\n",
       "  <tbody>\n",
       "    <tr>\n",
       "      <th>0</th>\n",
       "      <td>0.0</td>\n",
       "      <td>0.0</td>\n",
       "      <td>0.0</td>\n",
       "      <td>0.0</td>\n",
       "      <td>0.0</td>\n",
       "      <td>0.0</td>\n",
       "      <td>0.0</td>\n",
       "      <td>0.0</td>\n",
       "      <td>0.0</td>\n",
       "      <td>0.0</td>\n",
       "      <td>...</td>\n",
       "      <td>0.0</td>\n",
       "      <td>0.0</td>\n",
       "      <td>0.0</td>\n",
       "      <td>0.0</td>\n",
       "      <td>0.0</td>\n",
       "      <td>0.0</td>\n",
       "      <td>0.0</td>\n",
       "      <td>0.0</td>\n",
       "      <td>0.0</td>\n",
       "      <td>0.0</td>\n",
       "    </tr>\n",
       "    <tr>\n",
       "      <th>1</th>\n",
       "      <td>0.0</td>\n",
       "      <td>0.0</td>\n",
       "      <td>0.0</td>\n",
       "      <td>0.0</td>\n",
       "      <td>0.0</td>\n",
       "      <td>0.0</td>\n",
       "      <td>0.0</td>\n",
       "      <td>0.0</td>\n",
       "      <td>0.0</td>\n",
       "      <td>0.0</td>\n",
       "      <td>...</td>\n",
       "      <td>0.0</td>\n",
       "      <td>0.0</td>\n",
       "      <td>0.0</td>\n",
       "      <td>0.0</td>\n",
       "      <td>0.0</td>\n",
       "      <td>0.0</td>\n",
       "      <td>0.0</td>\n",
       "      <td>0.0</td>\n",
       "      <td>0.0</td>\n",
       "      <td>0.0</td>\n",
       "    </tr>\n",
       "    <tr>\n",
       "      <th>2</th>\n",
       "      <td>0.0</td>\n",
       "      <td>0.0</td>\n",
       "      <td>0.0</td>\n",
       "      <td>0.0</td>\n",
       "      <td>0.0</td>\n",
       "      <td>0.0</td>\n",
       "      <td>0.0</td>\n",
       "      <td>0.0</td>\n",
       "      <td>0.0</td>\n",
       "      <td>0.0</td>\n",
       "      <td>...</td>\n",
       "      <td>0.0</td>\n",
       "      <td>0.0</td>\n",
       "      <td>0.0</td>\n",
       "      <td>0.0</td>\n",
       "      <td>0.0</td>\n",
       "      <td>0.0</td>\n",
       "      <td>0.0</td>\n",
       "      <td>0.0</td>\n",
       "      <td>0.0</td>\n",
       "      <td>0.0</td>\n",
       "    </tr>\n",
       "    <tr>\n",
       "      <th>3</th>\n",
       "      <td>0.0</td>\n",
       "      <td>0.0</td>\n",
       "      <td>0.0</td>\n",
       "      <td>0.0</td>\n",
       "      <td>0.0</td>\n",
       "      <td>0.0</td>\n",
       "      <td>0.0</td>\n",
       "      <td>0.0</td>\n",
       "      <td>0.0</td>\n",
       "      <td>0.0</td>\n",
       "      <td>...</td>\n",
       "      <td>0.0</td>\n",
       "      <td>0.0</td>\n",
       "      <td>0.0</td>\n",
       "      <td>0.0</td>\n",
       "      <td>0.0</td>\n",
       "      <td>0.0</td>\n",
       "      <td>0.0</td>\n",
       "      <td>0.0</td>\n",
       "      <td>0.0</td>\n",
       "      <td>0.0</td>\n",
       "    </tr>\n",
       "    <tr>\n",
       "      <th>4</th>\n",
       "      <td>0.0</td>\n",
       "      <td>0.0</td>\n",
       "      <td>0.0</td>\n",
       "      <td>0.0</td>\n",
       "      <td>0.0</td>\n",
       "      <td>0.0</td>\n",
       "      <td>0.0</td>\n",
       "      <td>0.0</td>\n",
       "      <td>0.0</td>\n",
       "      <td>0.0</td>\n",
       "      <td>...</td>\n",
       "      <td>0.0</td>\n",
       "      <td>0.0</td>\n",
       "      <td>0.0</td>\n",
       "      <td>0.0</td>\n",
       "      <td>0.0</td>\n",
       "      <td>0.0</td>\n",
       "      <td>0.0</td>\n",
       "      <td>0.0</td>\n",
       "      <td>0.0</td>\n",
       "      <td>0.0</td>\n",
       "    </tr>\n",
       "  </tbody>\n",
       "</table>\n",
       "<p>5 rows × 5000 columns</p>\n",
       "</div>"
      ],
      "text/plain": [
       "   007   10  10th  10yearold   11  11th  11yearold   12  12yearold   13 ...   \\\n",
       "0  0.0  0.0   0.0        0.0  0.0   0.0        0.0  0.0        0.0  0.0 ...    \n",
       "1  0.0  0.0   0.0        0.0  0.0   0.0        0.0  0.0        0.0  0.0 ...    \n",
       "2  0.0  0.0   0.0        0.0  0.0   0.0        0.0  0.0        0.0  0.0 ...    \n",
       "3  0.0  0.0   0.0        0.0  0.0   0.0        0.0  0.0        0.0  0.0 ...    \n",
       "4  0.0  0.0   0.0        0.0  0.0   0.0        0.0  0.0        0.0  0.0 ...    \n",
       "\n",
       "   zebra  zero  zeus  zinos  zion  zoe  zombie  zombies  zone  zoo  \n",
       "0    0.0   0.0   0.0    0.0   0.0  0.0     0.0      0.0   0.0  0.0  \n",
       "1    0.0   0.0   0.0    0.0   0.0  0.0     0.0      0.0   0.0  0.0  \n",
       "2    0.0   0.0   0.0    0.0   0.0  0.0     0.0      0.0   0.0  0.0  \n",
       "3    0.0   0.0   0.0    0.0   0.0  0.0     0.0      0.0   0.0  0.0  \n",
       "4    0.0   0.0   0.0    0.0   0.0  0.0     0.0      0.0   0.0  0.0  \n",
       "\n",
       "[5 rows x 5000 columns]"
      ]
     },
     "execution_count": 21,
     "metadata": {},
     "output_type": "execute_result"
    }
   ],
   "source": [
    "#Check results train data\n",
    "text_features_train.head()"
   ]
  },
  {
   "cell_type": "code",
   "execution_count": 22,
   "metadata": {},
   "outputs": [
    {
     "data": {
      "text/html": [
       "<div>\n",
       "<style>\n",
       "    .dataframe thead tr:only-child th {\n",
       "        text-align: right;\n",
       "    }\n",
       "\n",
       "    .dataframe thead th {\n",
       "        text-align: left;\n",
       "    }\n",
       "\n",
       "    .dataframe tbody tr th {\n",
       "        vertical-align: top;\n",
       "    }\n",
       "</style>\n",
       "<table border=\"1\" class=\"dataframe\">\n",
       "  <thead>\n",
       "    <tr style=\"text-align: right;\">\n",
       "      <th></th>\n",
       "      <th>007</th>\n",
       "      <th>10</th>\n",
       "      <th>10th</th>\n",
       "      <th>10yearold</th>\n",
       "      <th>11</th>\n",
       "      <th>11th</th>\n",
       "      <th>11yearold</th>\n",
       "      <th>12</th>\n",
       "      <th>12yearold</th>\n",
       "      <th>13</th>\n",
       "      <th>...</th>\n",
       "      <th>zebra</th>\n",
       "      <th>zero</th>\n",
       "      <th>zeus</th>\n",
       "      <th>zinos</th>\n",
       "      <th>zion</th>\n",
       "      <th>zoe</th>\n",
       "      <th>zombie</th>\n",
       "      <th>zombies</th>\n",
       "      <th>zone</th>\n",
       "      <th>zoo</th>\n",
       "    </tr>\n",
       "  </thead>\n",
       "  <tbody>\n",
       "    <tr>\n",
       "      <th>0</th>\n",
       "      <td>0.0</td>\n",
       "      <td>0.0</td>\n",
       "      <td>0.0</td>\n",
       "      <td>0.0</td>\n",
       "      <td>0.0</td>\n",
       "      <td>0.0</td>\n",
       "      <td>0.0</td>\n",
       "      <td>0.0</td>\n",
       "      <td>0.0</td>\n",
       "      <td>0.0</td>\n",
       "      <td>...</td>\n",
       "      <td>0.0</td>\n",
       "      <td>0.0</td>\n",
       "      <td>0.0</td>\n",
       "      <td>0.0</td>\n",
       "      <td>0.0</td>\n",
       "      <td>0.0</td>\n",
       "      <td>0.0</td>\n",
       "      <td>0.0</td>\n",
       "      <td>0.0</td>\n",
       "      <td>0.0</td>\n",
       "    </tr>\n",
       "    <tr>\n",
       "      <th>1</th>\n",
       "      <td>0.0</td>\n",
       "      <td>0.0</td>\n",
       "      <td>0.0</td>\n",
       "      <td>0.0</td>\n",
       "      <td>0.0</td>\n",
       "      <td>0.0</td>\n",
       "      <td>0.0</td>\n",
       "      <td>0.0</td>\n",
       "      <td>0.0</td>\n",
       "      <td>0.0</td>\n",
       "      <td>...</td>\n",
       "      <td>0.0</td>\n",
       "      <td>0.0</td>\n",
       "      <td>0.0</td>\n",
       "      <td>0.0</td>\n",
       "      <td>0.0</td>\n",
       "      <td>0.0</td>\n",
       "      <td>0.0</td>\n",
       "      <td>0.0</td>\n",
       "      <td>0.0</td>\n",
       "      <td>0.0</td>\n",
       "    </tr>\n",
       "    <tr>\n",
       "      <th>2</th>\n",
       "      <td>0.0</td>\n",
       "      <td>0.0</td>\n",
       "      <td>0.0</td>\n",
       "      <td>0.0</td>\n",
       "      <td>0.0</td>\n",
       "      <td>0.0</td>\n",
       "      <td>0.0</td>\n",
       "      <td>0.0</td>\n",
       "      <td>0.0</td>\n",
       "      <td>0.0</td>\n",
       "      <td>...</td>\n",
       "      <td>0.0</td>\n",
       "      <td>0.0</td>\n",
       "      <td>0.0</td>\n",
       "      <td>0.0</td>\n",
       "      <td>0.0</td>\n",
       "      <td>0.0</td>\n",
       "      <td>0.0</td>\n",
       "      <td>0.0</td>\n",
       "      <td>0.0</td>\n",
       "      <td>0.0</td>\n",
       "    </tr>\n",
       "    <tr>\n",
       "      <th>3</th>\n",
       "      <td>0.0</td>\n",
       "      <td>0.0</td>\n",
       "      <td>0.0</td>\n",
       "      <td>0.0</td>\n",
       "      <td>0.0</td>\n",
       "      <td>0.0</td>\n",
       "      <td>0.0</td>\n",
       "      <td>0.0</td>\n",
       "      <td>0.0</td>\n",
       "      <td>0.0</td>\n",
       "      <td>...</td>\n",
       "      <td>0.0</td>\n",
       "      <td>0.0</td>\n",
       "      <td>0.0</td>\n",
       "      <td>0.0</td>\n",
       "      <td>0.0</td>\n",
       "      <td>0.0</td>\n",
       "      <td>0.0</td>\n",
       "      <td>0.0</td>\n",
       "      <td>0.0</td>\n",
       "      <td>0.0</td>\n",
       "    </tr>\n",
       "    <tr>\n",
       "      <th>4</th>\n",
       "      <td>0.0</td>\n",
       "      <td>0.0</td>\n",
       "      <td>0.0</td>\n",
       "      <td>0.0</td>\n",
       "      <td>0.0</td>\n",
       "      <td>0.0</td>\n",
       "      <td>0.0</td>\n",
       "      <td>0.0</td>\n",
       "      <td>0.0</td>\n",
       "      <td>0.0</td>\n",
       "      <td>...</td>\n",
       "      <td>0.0</td>\n",
       "      <td>0.0</td>\n",
       "      <td>0.0</td>\n",
       "      <td>0.0</td>\n",
       "      <td>0.0</td>\n",
       "      <td>0.0</td>\n",
       "      <td>0.0</td>\n",
       "      <td>0.0</td>\n",
       "      <td>0.0</td>\n",
       "      <td>0.0</td>\n",
       "    </tr>\n",
       "  </tbody>\n",
       "</table>\n",
       "<p>5 rows × 5000 columns</p>\n",
       "</div>"
      ],
      "text/plain": [
       "   007   10  10th  10yearold   11  11th  11yearold   12  12yearold   13 ...   \\\n",
       "0  0.0  0.0   0.0        0.0  0.0   0.0        0.0  0.0        0.0  0.0 ...    \n",
       "1  0.0  0.0   0.0        0.0  0.0   0.0        0.0  0.0        0.0  0.0 ...    \n",
       "2  0.0  0.0   0.0        0.0  0.0   0.0        0.0  0.0        0.0  0.0 ...    \n",
       "3  0.0  0.0   0.0        0.0  0.0   0.0        0.0  0.0        0.0  0.0 ...    \n",
       "4  0.0  0.0   0.0        0.0  0.0   0.0        0.0  0.0        0.0  0.0 ...    \n",
       "\n",
       "   zebra  zero  zeus  zinos  zion  zoe  zombie  zombies  zone  zoo  \n",
       "0    0.0   0.0   0.0    0.0   0.0  0.0     0.0      0.0   0.0  0.0  \n",
       "1    0.0   0.0   0.0    0.0   0.0  0.0     0.0      0.0   0.0  0.0  \n",
       "2    0.0   0.0   0.0    0.0   0.0  0.0     0.0      0.0   0.0  0.0  \n",
       "3    0.0   0.0   0.0    0.0   0.0  0.0     0.0      0.0   0.0  0.0  \n",
       "4    0.0   0.0   0.0    0.0   0.0  0.0     0.0      0.0   0.0  0.0  \n",
       "\n",
       "[5 rows x 5000 columns]"
      ]
     },
     "execution_count": 22,
     "metadata": {},
     "output_type": "execute_result"
    }
   ],
   "source": [
    "#Check results test data\n",
    "text_features_test.head()"
   ]
  },
  {
   "cell_type": "code",
   "execution_count": 23,
   "metadata": {},
   "outputs": [],
   "source": [
    "#Final dataframe with vectorized words\n",
    "final_train_df=pd.concat([x_train_df, text_features_train], axis=1)\n",
    "final_test_df=pd.concat([x_test_df, text_features_test], axis=1)"
   ]
  },
  {
   "cell_type": "code",
   "execution_count": 24,
   "metadata": {},
   "outputs": [],
   "source": [
    "final_train_df.to_csv('Output/NLP_revenue/NLP_train_results.csv')\n",
    "final_test_df.to_csv('Output/NLP_revenue/NLP_test_results.csv')"
   ]
  },
  {
   "cell_type": "markdown",
   "metadata": {},
   "source": [
    "# Run the model: Random Forest Regressor"
   ]
  },
  {
   "cell_type": "code",
   "execution_count": 25,
   "metadata": {},
   "outputs": [
    {
     "data": {
      "text/plain": [
       "RandomForestRegressor(bootstrap=True, criterion='mse', max_depth=None,\n",
       "           max_features='auto', max_leaf_nodes=None,\n",
       "           min_impurity_decrease=0.0, min_impurity_split=None,\n",
       "           min_samples_leaf=1, min_samples_split=2,\n",
       "           min_weight_fraction_leaf=0.0, n_estimators=10, n_jobs=1,\n",
       "           oob_score=False, random_state=None, verbose=0, warm_start=False)"
      ]
     },
     "execution_count": 25,
     "metadata": {},
     "output_type": "execute_result"
    }
   ],
   "source": [
    "from sklearn.ensemble import RandomForestRegressor\n",
    "\n",
    "clf = RandomForestRegressor()\n",
    "clf.fit(text_features_train, y_train_df[\"revenue\"])"
   ]
  },
  {
   "cell_type": "code",
   "execution_count": 26,
   "metadata": {},
   "outputs": [
    {
     "data": {
      "text/plain": [
       "hogwarts       0.036346\n",
       "gandalf        0.023786\n",
       "brock          0.020797\n",
       "decepticons    0.018761\n",
       "shrek          0.017592\n",
       "10th           0.017191\n",
       "formidable     0.016132\n",
       "villainous     0.015266\n",
       "stark          0.014719\n",
       "katniss        0.012730\n",
       "park           0.012671\n",
       "skywalker      0.012184\n",
       "brink          0.011525\n",
       "spiderman      0.011032\n",
       "accompanied    0.010973\n",
       "skull          0.009276\n",
       "alien          0.009220\n",
       "manny          0.009126\n",
       "iron           0.009017\n",
       "ring           0.008954\n",
       "powerful       0.008913\n",
       "po             0.008438\n",
       "imf            0.008227\n",
       "knights        0.007572\n",
       "emerges        0.007532\n",
       "earth          0.007509\n",
       "lion           0.007393\n",
       "peter          0.006879\n",
       "fury           0.006831\n",
       "nefarious      0.006479\n",
       "                 ...   \n",
       "dorian         0.000000\n",
       "officials      0.000000\n",
       "doug           0.000000\n",
       "offered        0.000000\n",
       "offer          0.000000\n",
       "oceans         0.000000\n",
       "outbreak       0.000000\n",
       "outcast        0.000000\n",
       "diabolical     0.000000\n",
       "disturbing     0.000000\n",
       "peoples        0.000000\n",
       "penguins       0.000000\n",
       "penguin        0.000000\n",
       "dickens        0.000000\n",
       "patrick        0.000000\n",
       "passing        0.000000\n",
       "digging        0.000000\n",
       "dil            0.000000\n",
       "passenger      0.000000\n",
       "partnered      0.000000\n",
       "pan            0.000000\n",
       "pack           0.000000\n",
       "discoveries    0.000000\n",
       "owl            0.000000\n",
       "owens          0.000000\n",
       "disfigured     0.000000\n",
       "disguise       0.000000\n",
       "outside        0.000000\n",
       "outlaw         0.000000\n",
       "creator        0.000000\n",
       "Length: 5000, dtype: float64"
      ]
     },
     "execution_count": 26,
     "metadata": {},
     "output_type": "execute_result"
    }
   ],
   "source": [
    "#Model results: Words more correlated to revenue\n",
    "pd.Series(clf.feature_importances_, index=text_features_train.columns).sort_values(ascending=False)"
   ]
  },
  {
   "cell_type": "code",
   "execution_count": 27,
   "metadata": {},
   "outputs": [],
   "source": [
    "#Export results in csv format\n",
    "pd.Series(clf.feature_importances_, index=text_features_train.columns).sort_values(ascending=False).to_csv('Output/NLP_revenue/most_correlated_words.csv')"
   ]
  },
  {
   "cell_type": "markdown",
   "metadata": {},
   "source": [
    "# Make predictions: Test data"
   ]
  },
  {
   "cell_type": "code",
   "execution_count": 28,
   "metadata": {},
   "outputs": [],
   "source": [
    "predictions = clf.predict(text_features_test.values).tolist()"
   ]
  },
  {
   "cell_type": "code",
   "execution_count": 29,
   "metadata": {},
   "outputs": [],
   "source": [
    "df_predictions = pd.DataFrame({'predictions_revenue':predictions})"
   ]
  },
  {
   "cell_type": "code",
   "execution_count": 30,
   "metadata": {},
   "outputs": [],
   "source": [
    "final_test_predictions_df=pd.concat([x_test_df, df_predictions], axis=1)"
   ]
  },
  {
   "cell_type": "code",
   "execution_count": 31,
   "metadata": {},
   "outputs": [
    {
     "data": {
      "text/html": [
       "<div>\n",
       "<style>\n",
       "    .dataframe thead tr:only-child th {\n",
       "        text-align: right;\n",
       "    }\n",
       "\n",
       "    .dataframe thead th {\n",
       "        text-align: left;\n",
       "    }\n",
       "\n",
       "    .dataframe tbody tr th {\n",
       "        vertical-align: top;\n",
       "    }\n",
       "</style>\n",
       "<table border=\"1\" class=\"dataframe\">\n",
       "  <thead>\n",
       "    <tr style=\"text-align: right;\">\n",
       "      <th></th>\n",
       "      <th>index</th>\n",
       "      <th>id</th>\n",
       "      <th>budget</th>\n",
       "      <th>revenue</th>\n",
       "      <th>popularity</th>\n",
       "      <th>original_title</th>\n",
       "      <th>overview</th>\n",
       "      <th>overview_sw</th>\n",
       "      <th>predictions_revenue</th>\n",
       "    </tr>\n",
       "  </thead>\n",
       "  <tbody>\n",
       "    <tr>\n",
       "      <th>0</th>\n",
       "      <td>1381</td>\n",
       "      <td>39486</td>\n",
       "      <td>35000000</td>\n",
       "      <td>60251371</td>\n",
       "      <td>9.525037</td>\n",
       "      <td>Secretariat</td>\n",
       "      <td>Housewife and mother Penny Chenery agrees to t...</td>\n",
       "      <td>housewife mother penny chenery agrees take ail...</td>\n",
       "      <td>31416328.3</td>\n",
       "    </tr>\n",
       "    <tr>\n",
       "      <th>1</th>\n",
       "      <td>1791</td>\n",
       "      <td>22894</td>\n",
       "      <td>26000000</td>\n",
       "      <td>67918658</td>\n",
       "      <td>30.981604</td>\n",
       "      <td>Legion</td>\n",
       "      <td>When God loses faith in humankind, he sends hi...</td>\n",
       "      <td>god loses faith humankind sends legion angels ...</td>\n",
       "      <td>185753836.2</td>\n",
       "    </tr>\n",
       "    <tr>\n",
       "      <th>2</th>\n",
       "      <td>262</td>\n",
       "      <td>120</td>\n",
       "      <td>93000000</td>\n",
       "      <td>871368364</td>\n",
       "      <td>138.049577</td>\n",
       "      <td>The Lord of the Rings: The Fellowship of the Ring</td>\n",
       "      <td>Young hobbit Frodo Baggins, after inheriting a...</td>\n",
       "      <td>young hobbit frodo baggins inheriting mysterio...</td>\n",
       "      <td>425311275.8</td>\n",
       "    </tr>\n",
       "    <tr>\n",
       "      <th>3</th>\n",
       "      <td>1103</td>\n",
       "      <td>5503</td>\n",
       "      <td>44000000</td>\n",
       "      <td>368875760</td>\n",
       "      <td>54.884297</td>\n",
       "      <td>The Fugitive</td>\n",
       "      <td>Wrongfully accused of murdering his wife, Rich...</td>\n",
       "      <td>wrongfully accused murdering wife richard kimb...</td>\n",
       "      <td>61365146.0</td>\n",
       "    </tr>\n",
       "    <tr>\n",
       "      <th>4</th>\n",
       "      <td>676</td>\n",
       "      <td>12160</td>\n",
       "      <td>63000000</td>\n",
       "      <td>25052000</td>\n",
       "      <td>13.859307</td>\n",
       "      <td>Wyatt Earp</td>\n",
       "      <td>Covering the life and times of one of the West...</td>\n",
       "      <td>covering life times one wests iconic heroes wy...</td>\n",
       "      <td>64839228.7</td>\n",
       "    </tr>\n",
       "  </tbody>\n",
       "</table>\n",
       "</div>"
      ],
      "text/plain": [
       "   index     id    budget    revenue  popularity  \\\n",
       "0   1381  39486  35000000   60251371    9.525037   \n",
       "1   1791  22894  26000000   67918658   30.981604   \n",
       "2    262    120  93000000  871368364  138.049577   \n",
       "3   1103   5503  44000000  368875760   54.884297   \n",
       "4    676  12160  63000000   25052000   13.859307   \n",
       "\n",
       "                                      original_title  \\\n",
       "0                                        Secretariat   \n",
       "1                                             Legion   \n",
       "2  The Lord of the Rings: The Fellowship of the Ring   \n",
       "3                                       The Fugitive   \n",
       "4                                         Wyatt Earp   \n",
       "\n",
       "                                            overview  \\\n",
       "0  Housewife and mother Penny Chenery agrees to t...   \n",
       "1  When God loses faith in humankind, he sends hi...   \n",
       "2  Young hobbit Frodo Baggins, after inheriting a...   \n",
       "3  Wrongfully accused of murdering his wife, Rich...   \n",
       "4  Covering the life and times of one of the West...   \n",
       "\n",
       "                                         overview_sw  predictions_revenue  \n",
       "0  housewife mother penny chenery agrees take ail...           31416328.3  \n",
       "1  god loses faith humankind sends legion angels ...          185753836.2  \n",
       "2  young hobbit frodo baggins inheriting mysterio...          425311275.8  \n",
       "3  wrongfully accused murdering wife richard kimb...           61365146.0  \n",
       "4  covering life times one wests iconic heroes wy...           64839228.7  "
      ]
     },
     "execution_count": 31,
     "metadata": {},
     "output_type": "execute_result"
    }
   ],
   "source": [
    "#Check results of predictions\n",
    "final_test_predictions_df.head()"
   ]
  },
  {
   "cell_type": "code",
   "execution_count": 32,
   "metadata": {},
   "outputs": [],
   "source": [
    "final_test_predictions_df[\"variance\"]=((final_test_predictions_df['predictions_revenue']-final_test_predictions_df['revenue']).div(final_test_predictions_df.revenue, axis=0))*100\n",
    "\n",
    "final_test_predictions_df.to_csv(\"Output/NLP_revenue/predictions_results_variance.csv\")"
   ]
  },
  {
   "cell_type": "markdown",
   "metadata": {},
   "source": [
    "# Score the model"
   ]
  },
  {
   "cell_type": "code",
   "execution_count": 33,
   "metadata": {},
   "outputs": [
    {
     "data": {
      "text/plain": [
       "-0.022174976752180831"
      ]
     },
     "execution_count": 33,
     "metadata": {},
     "output_type": "execute_result"
    }
   ],
   "source": [
    "from sklearn.metrics import r2_score\n",
    "\n",
    "test_score = r2_score(y_test_df[\"revenue\"], predictions)\n",
    "test_score"
   ]
  },
  {
   "cell_type": "markdown",
   "metadata": {},
   "source": [
    "# Download model"
   ]
  },
  {
   "cell_type": "code",
   "execution_count": 34,
   "metadata": {},
   "outputs": [
    {
     "data": {
      "text/plain": [
       "['NLP_model_revenue.pkl']"
      ]
     },
     "execution_count": 34,
     "metadata": {},
     "output_type": "execute_result"
    }
   ],
   "source": [
    "from sklearn.externals import joblib\n",
    "joblib.dump(clf, 'NLP_model_revenue.pkl')"
   ]
  },
  {
   "cell_type": "code",
   "execution_count": 35,
   "metadata": {},
   "outputs": [
    {
     "data": {
      "text/plain": [
       "['NLP_vectorizer_revenue.pkl']"
      ]
     },
     "execution_count": 35,
     "metadata": {},
     "output_type": "execute_result"
    }
   ],
   "source": [
    "joblib.dump(vec_train,'NLP_vectorizer_revenue.pkl')"
   ]
  },
  {
   "cell_type": "code",
   "execution_count": null,
   "metadata": {},
   "outputs": [],
   "source": []
  }
 ],
 "metadata": {
  "kernelspec": {
   "display_name": "Python 3",
   "language": "python",
   "name": "python3"
  },
  "language_info": {
   "codemirror_mode": {
    "name": "ipython",
    "version": 3
   },
   "file_extension": ".py",
   "mimetype": "text/x-python",
   "name": "python",
   "nbconvert_exporter": "python",
   "pygments_lexer": "ipython3",
   "version": "3.6.3"
  }
 },
 "nbformat": 4,
 "nbformat_minor": 2
}
